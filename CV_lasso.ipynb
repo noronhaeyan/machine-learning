{
 "cells": [
  {
   "cell_type": "code",
   "execution_count": 12,
   "id": "5ae71b46-4298-43fa-a69e-968cf1864970",
   "metadata": {},
   "outputs": [
    {
     "name": "stdout",
     "output_type": "stream",
     "text": [
      "[0.28349006 0.35157952 0.35338233 0.33481253 0.36453239]\n"
     ]
    }
   ],
   "source": [
    "from sklearn import datasets, linear_model\n",
    "from sklearn.model_selection import cross_val_score\n",
    "diabetes = datasets.load_diabetes()\n",
    "X = diabetes.data[:]\n",
    "y = diabetes.target[:]\n",
    "lasso = linear_model.Lasso()\n",
    "print(cross_val_score(lasso, X, y, cv=5))"
   ]
  },
  {
   "cell_type": "code",
   "execution_count": 15,
   "id": "f6406487-c077-423c-a9af-b4d28f5f52ee",
   "metadata": {},
   "outputs": [
    {
     "data": {
      "text/html": [
       "<style>#sk-container-id-2 {color: black;}#sk-container-id-2 pre{padding: 0;}#sk-container-id-2 div.sk-toggleable {background-color: white;}#sk-container-id-2 label.sk-toggleable__label {cursor: pointer;display: block;width: 100%;margin-bottom: 0;padding: 0.3em;box-sizing: border-box;text-align: center;}#sk-container-id-2 label.sk-toggleable__label-arrow:before {content: \"▸\";float: left;margin-right: 0.25em;color: #696969;}#sk-container-id-2 label.sk-toggleable__label-arrow:hover:before {color: black;}#sk-container-id-2 div.sk-estimator:hover label.sk-toggleable__label-arrow:before {color: black;}#sk-container-id-2 div.sk-toggleable__content {max-height: 0;max-width: 0;overflow: hidden;text-align: left;background-color: #f0f8ff;}#sk-container-id-2 div.sk-toggleable__content pre {margin: 0.2em;color: black;border-radius: 0.25em;background-color: #f0f8ff;}#sk-container-id-2 input.sk-toggleable__control:checked~div.sk-toggleable__content {max-height: 200px;max-width: 100%;overflow: auto;}#sk-container-id-2 input.sk-toggleable__control:checked~label.sk-toggleable__label-arrow:before {content: \"▾\";}#sk-container-id-2 div.sk-estimator input.sk-toggleable__control:checked~label.sk-toggleable__label {background-color: #d4ebff;}#sk-container-id-2 div.sk-label input.sk-toggleable__control:checked~label.sk-toggleable__label {background-color: #d4ebff;}#sk-container-id-2 input.sk-hidden--visually {border: 0;clip: rect(1px 1px 1px 1px);clip: rect(1px, 1px, 1px, 1px);height: 1px;margin: -1px;overflow: hidden;padding: 0;position: absolute;width: 1px;}#sk-container-id-2 div.sk-estimator {font-family: monospace;background-color: #f0f8ff;border: 1px dotted black;border-radius: 0.25em;box-sizing: border-box;margin-bottom: 0.5em;}#sk-container-id-2 div.sk-estimator:hover {background-color: #d4ebff;}#sk-container-id-2 div.sk-parallel-item::after {content: \"\";width: 100%;border-bottom: 1px solid gray;flex-grow: 1;}#sk-container-id-2 div.sk-label:hover label.sk-toggleable__label {background-color: #d4ebff;}#sk-container-id-2 div.sk-serial::before {content: \"\";position: absolute;border-left: 1px solid gray;box-sizing: border-box;top: 0;bottom: 0;left: 50%;z-index: 0;}#sk-container-id-2 div.sk-serial {display: flex;flex-direction: column;align-items: center;background-color: white;padding-right: 0.2em;padding-left: 0.2em;position: relative;}#sk-container-id-2 div.sk-item {position: relative;z-index: 1;}#sk-container-id-2 div.sk-parallel {display: flex;align-items: stretch;justify-content: center;background-color: white;position: relative;}#sk-container-id-2 div.sk-item::before, #sk-container-id-2 div.sk-parallel-item::before {content: \"\";position: absolute;border-left: 1px solid gray;box-sizing: border-box;top: 0;bottom: 0;left: 50%;z-index: -1;}#sk-container-id-2 div.sk-parallel-item {display: flex;flex-direction: column;z-index: 1;position: relative;background-color: white;}#sk-container-id-2 div.sk-parallel-item:first-child::after {align-self: flex-end;width: 50%;}#sk-container-id-2 div.sk-parallel-item:last-child::after {align-self: flex-start;width: 50%;}#sk-container-id-2 div.sk-parallel-item:only-child::after {width: 0;}#sk-container-id-2 div.sk-dashed-wrapped {border: 1px dashed gray;margin: 0 0.4em 0.5em 0.4em;box-sizing: border-box;padding-bottom: 0.4em;background-color: white;}#sk-container-id-2 div.sk-label label {font-family: monospace;font-weight: bold;display: inline-block;line-height: 1.2em;}#sk-container-id-2 div.sk-label-container {text-align: center;}#sk-container-id-2 div.sk-container {/* jupyter's `normalize.less` sets `[hidden] { display: none; }` but bootstrap.min.css set `[hidden] { display: none !important; }` so we also need the `!important` here to be able to override the default hidden behavior on the sphinx rendered scikit-learn.org. See: https://github.com/scikit-learn/scikit-learn/issues/21755 */display: inline-block !important;position: relative;}#sk-container-id-2 div.sk-text-repr-fallback {display: none;}</style><div id=\"sk-container-id-2\" class=\"sk-top-container\"><div class=\"sk-text-repr-fallback\"><pre>Lasso()</pre><b>In a Jupyter environment, please rerun this cell to show the HTML representation or trust the notebook. <br />On GitHub, the HTML representation is unable to render, please try loading this page with nbviewer.org.</b></div><div class=\"sk-container\" hidden><div class=\"sk-item\"><div class=\"sk-estimator sk-toggleable\"><input class=\"sk-toggleable__control sk-hidden--visually\" id=\"sk-estimator-id-2\" type=\"checkbox\" checked><label for=\"sk-estimator-id-2\" class=\"sk-toggleable__label sk-toggleable__label-arrow\">Lasso</label><div class=\"sk-toggleable__content\"><pre>Lasso()</pre></div></div></div></div></div>"
      ],
      "text/plain": [
       "Lasso()"
      ]
     },
     "execution_count": 15,
     "metadata": {},
     "output_type": "execute_result"
    }
   ],
   "source": [
    "lasso.fit(X,y)"
   ]
  },
  {
   "cell_type": "code",
   "execution_count": 20,
   "id": "1044fae9-cfda-4251-94d6-40c1c5cf239b",
   "metadata": {},
   "outputs": [
    {
     "data": {
      "text/plain": [
       "8"
      ]
     },
     "execution_count": 20,
     "metadata": {},
     "output_type": "execute_result"
    }
   ],
   "source": [
    "lasso.n_iter_"
   ]
  },
  {
   "cell_type": "code",
   "execution_count": 10,
   "id": "ad32dab1-e94d-4d05-a748-299dce16560f",
   "metadata": {},
   "outputs": [
    {
     "data": {
      "text/plain": [
       "\u001b[1;31mType:\u001b[0m        Lasso\n",
       "\u001b[1;31mString form:\u001b[0m Lasso()\n",
       "\u001b[1;31mFile:\u001b[0m        c:\\workspace\\machine learning\\code\\ml\\lib\\site-packages\\sklearn\\linear_model\\_coordinate_descent.py\n",
       "\u001b[1;31mSource:\u001b[0m     \n",
       "\u001b[1;32mclass\u001b[0m \u001b[0mLasso\u001b[0m\u001b[1;33m(\u001b[0m\u001b[0mElasticNet\u001b[0m\u001b[1;33m)\u001b[0m\u001b[1;33m:\u001b[0m\u001b[1;33m\n",
       "\u001b[0m    \u001b[1;34m\"\"\"Linear Model trained with L1 prior as regularizer (aka the Lasso).\n",
       "\n",
       "    The optimization objective for Lasso is::\n",
       "\n",
       "        (1 / (2 * n_samples)) * ||y - Xw||^2_2 + alpha * ||w||_1\n",
       "\n",
       "    Technically the Lasso model is optimizing the same objective function as\n",
       "    the Elastic Net with ``l1_ratio=1.0`` (no L2 penalty).\n",
       "\n",
       "    Read more in the :ref:`User Guide <lasso>`.\n",
       "\n",
       "    Parameters\n",
       "    ----------\n",
       "    alpha : float, default=1.0\n",
       "        Constant that multiplies the L1 term, controlling regularization\n",
       "        strength. `alpha` must be a non-negative float i.e. in `[0, inf)`.\n",
       "\n",
       "        When `alpha = 0`, the objective is equivalent to ordinary least\n",
       "        squares, solved by the :class:`LinearRegression` object. For numerical\n",
       "        reasons, using `alpha = 0` with the `Lasso` object is not advised.\n",
       "        Instead, you should use the :class:`LinearRegression` object.\n",
       "\n",
       "    fit_intercept : bool, default=True\n",
       "        Whether to calculate the intercept for this model. If set\n",
       "        to False, no intercept will be used in calculations\n",
       "        (i.e. data is expected to be centered).\n",
       "\n",
       "    precompute : bool or array-like of shape (n_features, n_features),\\\n",
       "                 default=False\n",
       "        Whether to use a precomputed Gram matrix to speed up\n",
       "        calculations. The Gram matrix can also be passed as argument.\n",
       "        For sparse input this option is always ``False`` to preserve sparsity.\n",
       "\n",
       "    copy_X : bool, default=True\n",
       "        If ``True``, X will be copied; else, it may be overwritten.\n",
       "\n",
       "    max_iter : int, default=1000\n",
       "        The maximum number of iterations.\n",
       "\n",
       "    tol : float, default=1e-4\n",
       "        The tolerance for the optimization: if the updates are\n",
       "        smaller than ``tol``, the optimization code checks the\n",
       "        dual gap for optimality and continues until it is smaller\n",
       "        than ``tol``, see Notes below.\n",
       "\n",
       "    warm_start : bool, default=False\n",
       "        When set to True, reuse the solution of the previous call to fit as\n",
       "        initialization, otherwise, just erase the previous solution.\n",
       "        See :term:`the Glossary <warm_start>`.\n",
       "\n",
       "    positive : bool, default=False\n",
       "        When set to ``True``, forces the coefficients to be positive.\n",
       "\n",
       "    random_state : int, RandomState instance, default=None\n",
       "        The seed of the pseudo random number generator that selects a random\n",
       "        feature to update. Used when ``selection`` == 'random'.\n",
       "        Pass an int for reproducible output across multiple function calls.\n",
       "        See :term:`Glossary <random_state>`.\n",
       "\n",
       "    selection : {'cyclic', 'random'}, default='cyclic'\n",
       "        If set to 'random', a random coefficient is updated every iteration\n",
       "        rather than looping over features sequentially by default. This\n",
       "        (setting to 'random') often leads to significantly faster convergence\n",
       "        especially when tol is higher than 1e-4.\n",
       "\n",
       "    Attributes\n",
       "    ----------\n",
       "    coef_ : ndarray of shape (n_features,) or (n_targets, n_features)\n",
       "        Parameter vector (w in the cost function formula).\n",
       "\n",
       "    dual_gap_ : float or ndarray of shape (n_targets,)\n",
       "        Given param alpha, the dual gaps at the end of the optimization,\n",
       "        same shape as each observation of y.\n",
       "\n",
       "    sparse_coef_ : sparse matrix of shape (n_features, 1) or \\\n",
       "            (n_targets, n_features)\n",
       "        Readonly property derived from ``coef_``.\n",
       "\n",
       "    intercept_ : float or ndarray of shape (n_targets,)\n",
       "        Independent term in decision function.\n",
       "\n",
       "    n_iter_ : int or list of int\n",
       "        Number of iterations run by the coordinate descent solver to reach\n",
       "        the specified tolerance.\n",
       "\n",
       "    n_features_in_ : int\n",
       "        Number of features seen during :term:`fit`.\n",
       "\n",
       "        .. versionadded:: 0.24\n",
       "\n",
       "    feature_names_in_ : ndarray of shape (`n_features_in_`,)\n",
       "        Names of features seen during :term:`fit`. Defined only when `X`\n",
       "        has feature names that are all strings.\n",
       "\n",
       "        .. versionadded:: 1.0\n",
       "\n",
       "    See Also\n",
       "    --------\n",
       "    lars_path : Regularization path using LARS.\n",
       "    lasso_path : Regularization path using Lasso.\n",
       "    LassoLars : Lasso Path along the regularization parameter using LARS algorithm.\n",
       "    LassoCV : Lasso alpha parameter by cross-validation.\n",
       "    LassoLarsCV : Lasso least angle parameter algorithm by cross-validation.\n",
       "    sklearn.decomposition.sparse_encode : Sparse coding array estimator.\n",
       "\n",
       "    Notes\n",
       "    -----\n",
       "    The algorithm used to fit the model is coordinate descent.\n",
       "\n",
       "    To avoid unnecessary memory duplication the X argument of the fit method\n",
       "    should be directly passed as a Fortran-contiguous numpy array.\n",
       "\n",
       "    Regularization improves the conditioning of the problem and\n",
       "    reduces the variance of the estimates. Larger values specify stronger\n",
       "    regularization. Alpha corresponds to `1 / (2C)` in other linear\n",
       "    models such as :class:`~sklearn.linear_model.LogisticRegression` or\n",
       "    :class:`~sklearn.svm.LinearSVC`. If an array is passed, penalties are\n",
       "    assumed to be specific to the targets. Hence they must correspond in\n",
       "    number.\n",
       "\n",
       "    The precise stopping criteria based on `tol` are the following: First, check that\n",
       "    that maximum coordinate update, i.e. :math:`\\\\max_j |w_j^{new} - w_j^{old}|`\n",
       "    is smaller than `tol` times the maximum absolute coefficient, :math:`\\\\max_j |w_j|`.\n",
       "    If so, then additionally check whether the dual gap is smaller than `tol` times\n",
       "    :math:`||y||_2^2 / n_{\\\\text{samples}}`.\n",
       "\n",
       "    The target can be a 2-dimensional array, resulting in the optimization of the\n",
       "    following objective::\n",
       "\n",
       "        (1 / (2 * n_samples)) * ||Y - XW||^2_F + alpha * ||W||_11\n",
       "\n",
       "    where :math:`||W||_{1,1}` is the sum of the magnitude of the matrix coefficients.\n",
       "    It should not be confused with :class:`~sklearn.linear_model.MultiTaskLasso` which\n",
       "    instead penalizes the :math:`L_{2,1}` norm of the coefficients, yielding row-wise\n",
       "    sparsity in the coefficients.\n",
       "\n",
       "    Examples\n",
       "    --------\n",
       "    >>> from sklearn import linear_model\n",
       "    >>> clf = linear_model.Lasso(alpha=0.1)\n",
       "    >>> clf.fit([[0,0], [1, 1], [2, 2]], [0, 1, 2])\n",
       "    Lasso(alpha=0.1)\n",
       "    >>> print(clf.coef_)\n",
       "    [0.85 0.  ]\n",
       "    >>> print(clf.intercept_)\n",
       "    0.15...\n",
       "    \"\"\"\u001b[0m\u001b[1;33m\n",
       "\u001b[0m\u001b[1;33m\n",
       "\u001b[0m    \u001b[0m_parameter_constraints\u001b[0m\u001b[1;33m:\u001b[0m \u001b[0mdict\u001b[0m \u001b[1;33m=\u001b[0m \u001b[1;33m{\u001b[0m\u001b[1;33m\n",
       "\u001b[0m        \u001b[1;33m**\u001b[0m\u001b[0mElasticNet\u001b[0m\u001b[1;33m.\u001b[0m\u001b[0m_parameter_constraints\u001b[0m\u001b[1;33m,\u001b[0m\u001b[1;33m\n",
       "\u001b[0m    \u001b[1;33m}\u001b[0m\u001b[1;33m\n",
       "\u001b[0m    \u001b[0m_parameter_constraints\u001b[0m\u001b[1;33m.\u001b[0m\u001b[0mpop\u001b[0m\u001b[1;33m(\u001b[0m\u001b[1;34m\"l1_ratio\"\u001b[0m\u001b[1;33m)\u001b[0m\u001b[1;33m\n",
       "\u001b[0m\u001b[1;33m\n",
       "\u001b[0m    \u001b[0mpath\u001b[0m \u001b[1;33m=\u001b[0m \u001b[0mstaticmethod\u001b[0m\u001b[1;33m(\u001b[0m\u001b[0menet_path\u001b[0m\u001b[1;33m)\u001b[0m\u001b[1;33m\n",
       "\u001b[0m\u001b[1;33m\n",
       "\u001b[0m    \u001b[1;32mdef\u001b[0m \u001b[0m__init__\u001b[0m\u001b[1;33m(\u001b[0m\u001b[1;33m\n",
       "\u001b[0m        \u001b[0mself\u001b[0m\u001b[1;33m,\u001b[0m\u001b[1;33m\n",
       "\u001b[0m        \u001b[0malpha\u001b[0m\u001b[1;33m=\u001b[0m\u001b[1;36m1.0\u001b[0m\u001b[1;33m,\u001b[0m\u001b[1;33m\n",
       "\u001b[0m        \u001b[1;33m*\u001b[0m\u001b[1;33m,\u001b[0m\u001b[1;33m\n",
       "\u001b[0m        \u001b[0mfit_intercept\u001b[0m\u001b[1;33m=\u001b[0m\u001b[1;32mTrue\u001b[0m\u001b[1;33m,\u001b[0m\u001b[1;33m\n",
       "\u001b[0m        \u001b[0mprecompute\u001b[0m\u001b[1;33m=\u001b[0m\u001b[1;32mFalse\u001b[0m\u001b[1;33m,\u001b[0m\u001b[1;33m\n",
       "\u001b[0m        \u001b[0mcopy_X\u001b[0m\u001b[1;33m=\u001b[0m\u001b[1;32mTrue\u001b[0m\u001b[1;33m,\u001b[0m\u001b[1;33m\n",
       "\u001b[0m        \u001b[0mmax_iter\u001b[0m\u001b[1;33m=\u001b[0m\u001b[1;36m1000\u001b[0m\u001b[1;33m,\u001b[0m\u001b[1;33m\n",
       "\u001b[0m        \u001b[0mtol\u001b[0m\u001b[1;33m=\u001b[0m\u001b[1;36m1e-4\u001b[0m\u001b[1;33m,\u001b[0m\u001b[1;33m\n",
       "\u001b[0m        \u001b[0mwarm_start\u001b[0m\u001b[1;33m=\u001b[0m\u001b[1;32mFalse\u001b[0m\u001b[1;33m,\u001b[0m\u001b[1;33m\n",
       "\u001b[0m        \u001b[0mpositive\u001b[0m\u001b[1;33m=\u001b[0m\u001b[1;32mFalse\u001b[0m\u001b[1;33m,\u001b[0m\u001b[1;33m\n",
       "\u001b[0m        \u001b[0mrandom_state\u001b[0m\u001b[1;33m=\u001b[0m\u001b[1;32mNone\u001b[0m\u001b[1;33m,\u001b[0m\u001b[1;33m\n",
       "\u001b[0m        \u001b[0mselection\u001b[0m\u001b[1;33m=\u001b[0m\u001b[1;34m\"cyclic\"\u001b[0m\u001b[1;33m,\u001b[0m\u001b[1;33m\n",
       "\u001b[0m    \u001b[1;33m)\u001b[0m\u001b[1;33m:\u001b[0m\u001b[1;33m\n",
       "\u001b[0m        \u001b[0msuper\u001b[0m\u001b[1;33m(\u001b[0m\u001b[1;33m)\u001b[0m\u001b[1;33m.\u001b[0m\u001b[0m__init__\u001b[0m\u001b[1;33m(\u001b[0m\u001b[1;33m\n",
       "\u001b[0m            \u001b[0malpha\u001b[0m\u001b[1;33m=\u001b[0m\u001b[0malpha\u001b[0m\u001b[1;33m,\u001b[0m\u001b[1;33m\n",
       "\u001b[0m            \u001b[0ml1_ratio\u001b[0m\u001b[1;33m=\u001b[0m\u001b[1;36m1.0\u001b[0m\u001b[1;33m,\u001b[0m\u001b[1;33m\n",
       "\u001b[0m            \u001b[0mfit_intercept\u001b[0m\u001b[1;33m=\u001b[0m\u001b[0mfit_intercept\u001b[0m\u001b[1;33m,\u001b[0m\u001b[1;33m\n",
       "\u001b[0m            \u001b[0mprecompute\u001b[0m\u001b[1;33m=\u001b[0m\u001b[0mprecompute\u001b[0m\u001b[1;33m,\u001b[0m\u001b[1;33m\n",
       "\u001b[0m            \u001b[0mcopy_X\u001b[0m\u001b[1;33m=\u001b[0m\u001b[0mcopy_X\u001b[0m\u001b[1;33m,\u001b[0m\u001b[1;33m\n",
       "\u001b[0m            \u001b[0mmax_iter\u001b[0m\u001b[1;33m=\u001b[0m\u001b[0mmax_iter\u001b[0m\u001b[1;33m,\u001b[0m\u001b[1;33m\n",
       "\u001b[0m            \u001b[0mtol\u001b[0m\u001b[1;33m=\u001b[0m\u001b[0mtol\u001b[0m\u001b[1;33m,\u001b[0m\u001b[1;33m\n",
       "\u001b[0m            \u001b[0mwarm_start\u001b[0m\u001b[1;33m=\u001b[0m\u001b[0mwarm_start\u001b[0m\u001b[1;33m,\u001b[0m\u001b[1;33m\n",
       "\u001b[0m            \u001b[0mpositive\u001b[0m\u001b[1;33m=\u001b[0m\u001b[0mpositive\u001b[0m\u001b[1;33m,\u001b[0m\u001b[1;33m\n",
       "\u001b[0m            \u001b[0mrandom_state\u001b[0m\u001b[1;33m=\u001b[0m\u001b[0mrandom_state\u001b[0m\u001b[1;33m,\u001b[0m\u001b[1;33m\n",
       "\u001b[0m            \u001b[0mselection\u001b[0m\u001b[1;33m=\u001b[0m\u001b[0mselection\u001b[0m\u001b[1;33m,\u001b[0m\u001b[1;33m\n",
       "\u001b[0m        \u001b[1;33m)\u001b[0m\u001b[1;33m\u001b[0m\u001b[1;33m\u001b[0m\u001b[0m"
      ]
     },
     "metadata": {},
     "output_type": "display_data"
    }
   ],
   "source": [
    "??lasso"
   ]
  }
 ],
 "metadata": {
  "kernelspec": {
   "display_name": "ml",
   "language": "python",
   "name": "ml"
  },
  "language_info": {
   "codemirror_mode": {
    "name": "ipython",
    "version": 3
   },
   "file_extension": ".py",
   "mimetype": "text/x-python",
   "name": "python",
   "nbconvert_exporter": "python",
   "pygments_lexer": "ipython3",
   "version": "3.9.2"
  }
 },
 "nbformat": 4,
 "nbformat_minor": 5
}
