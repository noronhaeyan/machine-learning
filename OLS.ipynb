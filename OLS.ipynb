{
 "cells": [
  {
   "cell_type": "code",
   "execution_count": 1,
   "id": "caebf7e4-157b-4f5d-bdc6-3ac657e296e7",
   "metadata": {},
   "outputs": [
    {
     "name": "stdout",
     "output_type": "stream",
     "text": [
      "    hours  score\n",
      "0       1     64\n",
      "1       2     66\n",
      "2       4     76\n",
      "3       5     73\n",
      "4       5     74\n",
      "5       6     81\n",
      "6       6     83\n",
      "7       7     82\n",
      "8       8     80\n",
      "9      10     88\n",
      "10     11     84\n",
      "11     11     82\n",
      "12     12     91\n",
      "13     12     93\n",
      "14     14     89\n"
     ]
    }
   ],
   "source": [
    "import pandas as pd\n",
    "\n",
    "#create DataFrame\n",
    "df = pd.DataFrame({'hours': [1, 2, 4, 5, 5, 6, 6, 7, 8, 10, 11, 11, 12, 12, 14],\n",
    "                   'score': [64, 66, 76, 73, 74, 81, 83, 82, 80, 88, 84, 82, 91, 93, 89]})\n",
    "\n",
    "#view DataFrame\n",
    "print(df)"
   ]
  },
  {
   "cell_type": "code",
   "execution_count": 7,
   "id": "d062a1d1-e45e-4774-8913-34c1f4358fbf",
   "metadata": {},
   "outputs": [],
   "source": [
    "import statsmodels.formula.api as smf\n",
    "\n",
    "model = smf.ols(\"score ~ hours\", data = df).fit()"
   ]
  },
  {
   "cell_type": "code",
   "execution_count": 8,
   "id": "4108ac2b-ee84-409b-948c-8ed66e6c6498",
   "metadata": {},
   "outputs": [
    {
     "name": "stderr",
     "output_type": "stream",
     "text": [
      "C:\\workspace\\machine learning\\code\\ml\\lib\\site-packages\\scipy\\stats\\_stats_py.py:1806: UserWarning: kurtosistest only valid for n>=20 ... continuing anyway, n=15\n",
      "  warnings.warn(\"kurtosistest only valid for n>=20 ... continuing \"\n"
     ]
    },
    {
     "data": {
      "text/html": [
       "<table class=\"simpletable\">\n",
       "<caption>OLS Regression Results</caption>\n",
       "<tr>\n",
       "  <th>Dep. Variable:</th>          <td>score</td>      <th>  R-squared:         </th> <td>   0.831</td>\n",
       "</tr>\n",
       "<tr>\n",
       "  <th>Model:</th>                   <td>OLS</td>       <th>  Adj. R-squared:    </th> <td>   0.818</td>\n",
       "</tr>\n",
       "<tr>\n",
       "  <th>Method:</th>             <td>Least Squares</td>  <th>  F-statistic:       </th> <td>   63.91</td>\n",
       "</tr>\n",
       "<tr>\n",
       "  <th>Date:</th>             <td>Wed, 15 Nov 2023</td> <th>  Prob (F-statistic):</th> <td>2.25e-06</td>\n",
       "</tr>\n",
       "<tr>\n",
       "  <th>Time:</th>                 <td>14:27:00</td>     <th>  Log-Likelihood:    </th> <td> -39.594</td>\n",
       "</tr>\n",
       "<tr>\n",
       "  <th>No. Observations:</th>      <td>    15</td>      <th>  AIC:               </th> <td>   83.19</td>\n",
       "</tr>\n",
       "<tr>\n",
       "  <th>Df Residuals:</th>          <td>    13</td>      <th>  BIC:               </th> <td>   84.60</td>\n",
       "</tr>\n",
       "<tr>\n",
       "  <th>Df Model:</th>              <td>     1</td>      <th>                     </th>     <td> </td>   \n",
       "</tr>\n",
       "<tr>\n",
       "  <th>Covariance Type:</th>      <td>nonrobust</td>    <th>                     </th>     <td> </td>   \n",
       "</tr>\n",
       "</table>\n",
       "<table class=\"simpletable\">\n",
       "<tr>\n",
       "      <td></td>         <th>coef</th>     <th>std err</th>      <th>t</th>      <th>P>|t|</th>  <th>[0.025</th>    <th>0.975]</th>  \n",
       "</tr>\n",
       "<tr>\n",
       "  <th>Intercept</th> <td>   65.3340</td> <td>    2.106</td> <td>   31.023</td> <td> 0.000</td> <td>   60.784</td> <td>   69.884</td>\n",
       "</tr>\n",
       "<tr>\n",
       "  <th>hours</th>     <td>    1.9824</td> <td>    0.248</td> <td>    7.995</td> <td> 0.000</td> <td>    1.447</td> <td>    2.518</td>\n",
       "</tr>\n",
       "</table>\n",
       "<table class=\"simpletable\">\n",
       "<tr>\n",
       "  <th>Omnibus:</th>       <td> 4.351</td> <th>  Durbin-Watson:     </th> <td>   1.677</td>\n",
       "</tr>\n",
       "<tr>\n",
       "  <th>Prob(Omnibus):</th> <td> 0.114</td> <th>  Jarque-Bera (JB):  </th> <td>   1.329</td>\n",
       "</tr>\n",
       "<tr>\n",
       "  <th>Skew:</th>          <td> 0.092</td> <th>  Prob(JB):          </th> <td>   0.515</td>\n",
       "</tr>\n",
       "<tr>\n",
       "  <th>Kurtosis:</th>      <td> 1.554</td> <th>  Cond. No.          </th> <td>    19.2</td>\n",
       "</tr>\n",
       "</table><br/><br/>Notes:<br/>[1] Standard Errors assume that the covariance matrix of the errors is correctly specified."
      ],
      "text/latex": [
       "\\begin{center}\n",
       "\\begin{tabular}{lclc}\n",
       "\\toprule\n",
       "\\textbf{Dep. Variable:}    &      score       & \\textbf{  R-squared:         } &     0.831   \\\\\n",
       "\\textbf{Model:}            &       OLS        & \\textbf{  Adj. R-squared:    } &     0.818   \\\\\n",
       "\\textbf{Method:}           &  Least Squares   & \\textbf{  F-statistic:       } &     63.91   \\\\\n",
       "\\textbf{Date:}             & Wed, 15 Nov 2023 & \\textbf{  Prob (F-statistic):} &  2.25e-06   \\\\\n",
       "\\textbf{Time:}             &     14:27:00     & \\textbf{  Log-Likelihood:    } &   -39.594   \\\\\n",
       "\\textbf{No. Observations:} &          15      & \\textbf{  AIC:               } &     83.19   \\\\\n",
       "\\textbf{Df Residuals:}     &          13      & \\textbf{  BIC:               } &     84.60   \\\\\n",
       "\\textbf{Df Model:}         &           1      & \\textbf{                     } &             \\\\\n",
       "\\textbf{Covariance Type:}  &    nonrobust     & \\textbf{                     } &             \\\\\n",
       "\\bottomrule\n",
       "\\end{tabular}\n",
       "\\begin{tabular}{lcccccc}\n",
       "                   & \\textbf{coef} & \\textbf{std err} & \\textbf{t} & \\textbf{P$> |$t$|$} & \\textbf{[0.025} & \\textbf{0.975]}  \\\\\n",
       "\\midrule\n",
       "\\textbf{Intercept} &      65.3340  &        2.106     &    31.023  &         0.000        &       60.784    &       69.884     \\\\\n",
       "\\textbf{hours}     &       1.9824  &        0.248     &     7.995  &         0.000        &        1.447    &        2.518     \\\\\n",
       "\\bottomrule\n",
       "\\end{tabular}\n",
       "\\begin{tabular}{lclc}\n",
       "\\textbf{Omnibus:}       &  4.351 & \\textbf{  Durbin-Watson:     } &    1.677  \\\\\n",
       "\\textbf{Prob(Omnibus):} &  0.114 & \\textbf{  Jarque-Bera (JB):  } &    1.329  \\\\\n",
       "\\textbf{Skew:}          &  0.092 & \\textbf{  Prob(JB):          } &    0.515  \\\\\n",
       "\\textbf{Kurtosis:}      &  1.554 & \\textbf{  Cond. No.          } &     19.2  \\\\\n",
       "\\bottomrule\n",
       "\\end{tabular}\n",
       "%\\caption{OLS Regression Results}\n",
       "\\end{center}\n",
       "\n",
       "Notes: \\newline\n",
       " [1] Standard Errors assume that the covariance matrix of the errors is correctly specified."
      ],
      "text/plain": [
       "<class 'statsmodels.iolib.summary.Summary'>\n",
       "\"\"\"\n",
       "                            OLS Regression Results                            \n",
       "==============================================================================\n",
       "Dep. Variable:                  score   R-squared:                       0.831\n",
       "Model:                            OLS   Adj. R-squared:                  0.818\n",
       "Method:                 Least Squares   F-statistic:                     63.91\n",
       "Date:                Wed, 15 Nov 2023   Prob (F-statistic):           2.25e-06\n",
       "Time:                        14:27:00   Log-Likelihood:                -39.594\n",
       "No. Observations:                  15   AIC:                             83.19\n",
       "Df Residuals:                      13   BIC:                             84.60\n",
       "Df Model:                           1                                         \n",
       "Covariance Type:            nonrobust                                         \n",
       "==============================================================================\n",
       "                 coef    std err          t      P>|t|      [0.025      0.975]\n",
       "------------------------------------------------------------------------------\n",
       "Intercept     65.3340      2.106     31.023      0.000      60.784      69.884\n",
       "hours          1.9824      0.248      7.995      0.000       1.447       2.518\n",
       "==============================================================================\n",
       "Omnibus:                        4.351   Durbin-Watson:                   1.677\n",
       "Prob(Omnibus):                  0.114   Jarque-Bera (JB):                1.329\n",
       "Skew:                           0.092   Prob(JB):                        0.515\n",
       "Kurtosis:                       1.554   Cond. No.                         19.2\n",
       "==============================================================================\n",
       "\n",
       "Notes:\n",
       "[1] Standard Errors assume that the covariance matrix of the errors is correctly specified.\n",
       "\"\"\""
      ]
     },
     "execution_count": 8,
     "metadata": {},
     "output_type": "execute_result"
    }
   ],
   "source": [
    "model.summary()"
   ]
  },
  {
   "cell_type": "code",
   "execution_count": null,
   "id": "8006e811-678e-4dd7-b347-894acae04b07",
   "metadata": {},
   "outputs": [],
   "source": []
  }
 ],
 "metadata": {
  "kernelspec": {
   "display_name": "ml",
   "language": "python",
   "name": "ml"
  },
  "language_info": {
   "codemirror_mode": {
    "name": "ipython",
    "version": 3
   },
   "file_extension": ".py",
   "mimetype": "text/x-python",
   "name": "python",
   "nbconvert_exporter": "python",
   "pygments_lexer": "ipython3",
   "version": "3.9.2"
  }
 },
 "nbformat": 4,
 "nbformat_minor": 5
}
