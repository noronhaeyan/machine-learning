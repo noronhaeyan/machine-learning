{
 "cells": [
  {
   "cell_type": "markdown",
   "id": "a340d75c-f31b-459f-9a0c-052764d03bdc",
   "metadata": {},
   "source": [
    "https://www.youtube.com/watch?v=jR0phoeXjrc"
   ]
  },
  {
   "cell_type": "markdown",
   "id": "e9789a72-0c34-40da-8b80-c24795aeafc8",
   "metadata": {},
   "source": [
    "https://www.kaggle.com/code/ekami66/detailed-exploratory-data-analysis-with-python"
   ]
  },
  {
   "cell_type": "markdown",
   "id": "b3238da9-8b57-4fc6-904e-9d0ad300dad2",
   "metadata": {},
   "source": [
    "https://www.kaggle.com/code/spscientist/a-simple-tutorial-on-exploratory-data-analysis"
   ]
  },
  {
   "cell_type": "code",
   "execution_count": null,
   "id": "6174c39f-c620-4082-95f0-1af47e4807be",
   "metadata": {},
   "outputs": [],
   "source": []
  }
 ],
 "metadata": {
  "kernelspec": {
   "display_name": "ml",
   "language": "python",
   "name": "ml"
  },
  "language_info": {
   "codemirror_mode": {
    "name": "ipython",
    "version": 3
   },
   "file_extension": ".py",
   "mimetype": "text/x-python",
   "name": "python",
   "nbconvert_exporter": "python",
   "pygments_lexer": "ipython3",
   "version": "3.9.2"
  }
 },
 "nbformat": 4,
 "nbformat_minor": 5
}
